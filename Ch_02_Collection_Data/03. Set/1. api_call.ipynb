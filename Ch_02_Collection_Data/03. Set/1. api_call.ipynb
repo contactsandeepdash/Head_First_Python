{
 "cells": [
  {
   "cell_type": "code",
   "execution_count": 1,
   "id": "4633c312-d252-4252-b9b9-2c02cde9619e",
   "metadata": {},
   "outputs": [
    {
     "name": "stdout",
     "output_type": "stream",
     "text": [
      "{\"message\": \"success\", \"people\": [{\"name\": \"Jasmin Moghbeli\", \"craft\": \"ISS\"}, {\"name\": \"Andreas Mogensen\", \"craft\": \"ISS\"}, {\"name\": \"Satoshi Furukawa\", \"craft\": \"ISS\"}, {\"name\": \"Konstantin Borisov\", \"craft\": \"ISS\"}, {\"name\": \"Oleg Kononenko\", \"craft\": \"ISS\"}, {\"name\": \"Nikolai Chub\", \"craft\": \"ISS\"}, {\"name\": \"Loral O'Hara\", \"craft\": \"ISS\"}], \"number\": 7}\n",
      "('{\"message\": \"success\", \"people\": [{\"name\": \"Jasmin Moghbeli\", \"craft\": '\n",
      " '\"ISS\"}, {\"name\": \"Andreas Mogensen\", \"craft\": \"ISS\"}, {\"name\": \"Satoshi '\n",
      " 'Furukawa\", \"craft\": \"ISS\"}, {\"name\": \"Konstantin Borisov\", \"craft\": \"ISS\"}, '\n",
      " '{\"name\": \"Oleg Kononenko\", \"craft\": \"ISS\"}, {\"name\": \"Nikolai Chub\", '\n",
      " '\"craft\": \"ISS\"}, {\"name\": \"Loral O\\'Hara\", \"craft\": \"ISS\"}], \"number\": 7}')\n"
     ]
    }
   ],
   "source": [
    "import requests\n",
    "import pprint\n",
    "import json\n",
    "\n",
    "response = requests.get(\"http://api.open-notify.org/astros.json\")\n",
    "print(response.text)\n",
    "\n",
    "pprint.pprint(response.text)\n",
    "\n",
    "#json_str = json.dumps(response.text, indent=4)\n",
    "\n",
    "# Print the pretty-printed JSON string\n",
    "#print(json_str)"
   ]
  },
  {
   "cell_type": "code",
   "execution_count": null,
   "id": "96e7f475-eb8a-43c0-a6f6-7706637e8b5b",
   "metadata": {},
   "outputs": [],
   "source": []
  }
 ],
 "metadata": {
  "kernelspec": {
   "display_name": "Python 3 (ipykernel)",
   "language": "python",
   "name": "python3"
  },
  "language_info": {
   "codemirror_mode": {
    "name": "ipython",
    "version": 3
   },
   "file_extension": ".py",
   "mimetype": "text/x-python",
   "name": "python",
   "nbconvert_exporter": "python",
   "pygments_lexer": "ipython3",
   "version": "3.11.5"
  }
 },
 "nbformat": 4,
 "nbformat_minor": 5
}
