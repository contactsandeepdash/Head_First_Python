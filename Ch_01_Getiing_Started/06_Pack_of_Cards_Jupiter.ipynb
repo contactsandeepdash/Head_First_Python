{
 "cells": [
  {
   "cell_type": "code",
   "execution_count": 2,
   "metadata": {},
   "outputs": [],
   "source": [
    "import random"
   ]
  },
  {
   "cell_type": "code",
   "execution_count": 3,
   "metadata": {},
   "outputs": [],
   "source": [
    "suits = [\"Clubs\", \"Spades\", \"Hearts\", \"Diamonds\"]\n",
    "faces = [\"Jack\", \"Queen\", \"King\", \"Ace\"]\n",
    "numbered = [2,3,4,5,6,7,8,9,10]"
   ]
  },
  {
   "cell_type": "code",
   "execution_count": 4,
   "metadata": {},
   "outputs": [
    {
     "name": "stdout",
     "output_type": "stream",
     "text": [
      "deck size = 52\n",
      "{'Queen of Hearts', '4 of Diamonds', '8 of Clubs', '6 of Diamonds', '2 of Clubs', '8 of Spades', '6 of Clubs', '3 of Diamonds', '4 of Spades', '8 of Hearts', '3 of Spades', 'Jack of Hearts', '9 of Spades', 'Ace of Hearts', '5 of Hearts', '2 of Diamonds', '9 of Diamonds', '5 of Diamonds', '9 of Hearts', 'King of Clubs', '8 of Diamonds', '5 of Clubs', 'Queen of Spades', '7 of Clubs', 'Ace of Spades', '3 of Hearts', '6 of Hearts', '5 of Spades', 'Queen of Clubs', '3 of Clubs', '2 of Spades', '6 of Spades', '10 of Spades', 'Ace of Diamonds', '7 of Diamonds', '10 of Clubs', 'Jack of Clubs', '4 of Clubs', '9 of Clubs', '10 of Diamonds', '7 of Spades', 'Jack of Spades', 'King of Diamonds', 'Ace of Clubs', '4 of Hearts', '2 of Hearts', 'Queen of Diamonds', 'Jack of Diamonds', '10 of Hearts', 'King of Hearts', '7 of Hearts', 'King of Spades'}\n",
      "['10 of Clubs', '10 of Diamonds', '10 of Hearts', '10 of Spades', '2 of Clubs', '2 of Diamonds', '2 of Hearts', '2 of Spades', '3 of Clubs', '3 of Diamonds', '3 of Hearts', '3 of Spades', '4 of Clubs', '4 of Diamonds', '4 of Hearts', '4 of Spades', '5 of Clubs', '5 of Diamonds', '5 of Hearts', '5 of Spades', '6 of Clubs', '6 of Diamonds', '6 of Hearts', '6 of Spades', '7 of Clubs', '7 of Diamonds', '7 of Hearts', '7 of Spades', '8 of Clubs', '8 of Diamonds', '8 of Hearts', '8 of Spades', '9 of Clubs', '9 of Diamonds', '9 of Hearts', '9 of Spades', 'Ace of Clubs', 'Ace of Diamonds', 'Ace of Hearts', 'Ace of Spades', 'Jack of Clubs', 'Jack of Diamonds', 'Jack of Hearts', 'Jack of Spades', 'King of Clubs', 'King of Diamonds', 'King of Hearts', 'King of Spades', 'Queen of Clubs', 'Queen of Diamonds', 'Queen of Hearts', 'Queen of Spades']\n"
     ]
    }
   ],
   "source": [
    "deck = set()\n",
    "for suit in suits:\n",
    "    for card in faces + numbered:\n",
    "        deck.add(f\"{card} of {suit}\")\n",
    "\n",
    "print(\"deck size = \" + str(len(deck)))\n",
    "print(deck)\n",
    "print(sorted(deck))"
   ]
  },
  {
   "cell_type": "code",
   "execution_count": 5,
   "metadata": {},
   "outputs": [],
   "source": [
    "def draw():\n",
    "    which_suit = random.choice(suits)\n",
    "    which_type = random.choice([faces, numbered])\n",
    "    which_card = random.choice(which_type)\n",
    "\n",
    "    return which_card, \"of\", which_suit"
   ]
  },
  {
   "cell_type": "code",
   "execution_count": 6,
   "metadata": {},
   "outputs": [],
   "source": [
    "def deckDraw():\n",
    "    deck_which_card = random.choice(sorted(deck))\n",
    "\n",
    "    return deck_which_card"
   ]
  },
  {
   "cell_type": "code",
   "execution_count": 7,
   "metadata": {},
   "outputs": [
    {
     "data": {
      "text/plain": [
       "('Queen', 'of', 'Clubs')"
      ]
     },
     "execution_count": 7,
     "metadata": {},
     "output_type": "execute_result"
    }
   ],
   "source": [
    "draw()"
   ]
  },
  {
   "cell_type": "code",
   "execution_count": 8,
   "metadata": {},
   "outputs": [
    {
     "name": "stdout",
     "output_type": "stream",
     "text": [
      "0 -> ('Jack', 'of', 'Clubs')\n",
      "1 -> ('Queen', 'of', 'Spades')\n",
      "2 -> (9, 'of', 'Diamonds')\n",
      "3 -> (4, 'of', 'Spades')\n",
      "4 -> (8, 'of', 'Spades')\n"
     ]
    }
   ],
   "source": [
    "for n in range(5):\n",
    "    card = draw()\n",
    "    print(f\"{n} -> {card}\")"
   ]
  },
  {
   "cell_type": "code",
   "execution_count": 9,
   "metadata": {},
   "outputs": [
    {
     "name": "stdout",
     "output_type": "stream",
     "text": [
      "0 -> 10 of Hearts\n",
      "1 -> 8 of Clubs\n",
      "2 -> 6 of Hearts\n",
      "3 -> 5 of Spades\n",
      "4 -> 9 of Spades\n"
     ]
    }
   ],
   "source": [
    "for n in range(5):\n",
    "    deckCard = deckDraw()\n",
    "    print(f\"{n} -> {deckCard}\")"
   ]
  },
  {
   "cell_type": "code",
   "execution_count": null,
   "metadata": {},
   "outputs": [],
   "source": []
  }
 ],
 "metadata": {
  "kernelspec": {
   "display_name": "sandeep_personal",
   "language": "python",
   "name": "python3"
  },
  "language_info": {
   "codemirror_mode": {
    "name": "ipython",
    "version": 3
   },
   "file_extension": ".py",
   "mimetype": "text/x-python",
   "name": "python",
   "nbconvert_exporter": "python",
   "pygments_lexer": "ipython3",
   "version": "3.11.5"
  }
 },
 "nbformat": 4,
 "nbformat_minor": 2
}
